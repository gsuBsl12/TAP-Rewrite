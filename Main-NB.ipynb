{
 "cells": [
  {
   "attachments": {},
   "cell_type": "markdown",
   "metadata": {},
   "source": [
    "# ShockBox Program\n",
    "\n",
    "Required Software to run program:\n",
    "- Python3: https://www.python.org/downloads/\n",
    "- Ni MAX: https://www.ni.com/en-us/support/downloads/drivers/download.ni-daq-mx.html\n",
    "- Jupyter Notebook: https://jupyter.org/install (Can be installed after installing Python with \"pip install jupyter)\n",
    "\n",
    "References: \n",
    "- The product page for the Ni USB-6001 I/O Module: https://www.ni.com/docs/en-US/bundle/usb-6001-specs/resource/374369a.pdf\n",
    "- The official documentation: https://nidaqmx-python.readthedocs.io/en/latest/\n",
    "- The official GitHub repository: https://github.com/ni/nidaqmx-python\n",
    "- This video from the offiial YouTube channel: https://www.youtube.com/watch?v=JccCh-iYaE8"
   ]
  },
  {
   "attachments": {},
   "cell_type": "markdown",
   "metadata": {},
   "source": [
    "Import all necessary modules:\n",
    "- nidaqmx - Send and recieve data to and from DAQ card with Python\n",
    "    - The official documentation: https://nidaqmx-python.readthedocs.io/en/latest/\n",
    "    - The official GitHub repository: https://github.com/ni/nidaqmx-python"
   ]
  },
  {
   "cell_type": "code",
   "execution_count": 2,
   "metadata": {},
   "outputs": [
    {
     "name": "stdout",
     "output_type": "stream",
     "text": [
      "Successfully imported nidaqmax\n"
     ]
    }
   ],
   "source": [
    "import nidaqmx\n",
    "print(\"Successfully imported nidaqmax\")"
   ]
  },
  {
   "attachments": {},
   "cell_type": "markdown",
   "metadata": {},
   "source": [
    "## Example - Send output on analog channel\n",
    "The following is a basic block meant to send out 2 volts from the analog output pin 0 for as long as the program runs. \n",
    "\n",
    "The comments should be sufficient to show what every line does, but for further reference see the documentation (linked above) and this useful YouTube video showing how to write code for the Ni DAQ USB module: https://www.youtube.com/watch?v=umXMrr6Z0Og"
   ]
  },
  {
   "cell_type": "code",
   "execution_count": 10,
   "metadata": {},
   "outputs": [
    {
     "name": "stdout",
     "output_type": "stream",
     "text": [
      "Successfully sent signal for 2V on channel ao0\n"
     ]
    }
   ],
   "source": [
    "# Create a new task, called 'task', and set it equal to the output of the nidaqmx Task function\n",
    "task = nidaqmx.Task()\n",
    "\n",
    "# Create a new channel to send a signal to Device 'Dev1' via pin 'ao0', with th minimum nad maximum voltage values at 0 and 5 volts respectively.\n",
    "# More info: https://nidaqmx-python.readthedocs.io/en/latest/ao_channel_collection.html?highlight=add_ao_voltage#nidaqmx._task_modules.ao_channel_collection.AOChannelCollection.add_ao_voltage_chan\n",
    "task.ao_channels.add_ao_voltage_chan('Dev1/ao0', 0, 5)\n",
    "\n",
    "# Start the task\n",
    "task.start()\n",
    "\n",
    "# Create and send a signal of 2 volts over the channel\n",
    "value = 0.1\n",
    "task.write(value)\n",
    "print(\"Successfully sent signal for \" + value + \"V on channel ao0\")\n",
    "\n",
    "# Stop the task, close any channels created.\n",
    "task.stop()\n",
    "task.close()"
   ]
  },
  {
   "attachments": {},
   "cell_type": "markdown",
   "metadata": {},
   "source": [
    "## Example - Send output on digital channel\n",
    "The following is a basic block meant to send out 5 volts from the digital output pin 0 for as long as the program runs. \n",
    "\n",
    "The comments should be sufficient to show what every line does, but for further reference see the documentation (linked above) and this useful YouTube video showing how to write code for the Ni DAQ USB module: https://www.youtube.com/watch?v=umXMrr6Z0Og"
   ]
  },
  {
   "cell_type": "code",
   "execution_count": 13,
   "metadata": {},
   "outputs": [
    {
     "name": "stdout",
     "output_type": "stream",
     "text": [
      "Successfully sent digital signal on line line0\n"
     ]
    }
   ],
   "source": [
    "# Create a new task, called 'task', and set it equal to the output of the nidaqmx Task function\n",
    "task = nidaqmx.Task()\n",
    "\n",
    "# Create a new channel to send a signal to Device 'Dev1' via line 'do0'\n",
    "# More info:https://nidaqmx-python.readthedocs.io/en/latest/do_channel_collection.html?highlight=add_do_chan#nidaqmx._task_modules.do_channel_collection.DOChannelCollection.add_do_chan \n",
    "task.do_channels.add_do_chan('Dev1/port0/line0')\n",
    "\n",
    "# Start the task\n",
    "task.start()\n",
    "\n",
    "# Create and send a signal of 2 volts over the channel\n",
    "value = False\n",
    "task.write(value)\n",
    "print(\"Successfully sent digital signal on line line0\")\n",
    "\n",
    "# Stop the task, close any channels created.\n",
    "task.stop()\n",
    "task.close()"
   ]
  }
 ],
 "metadata": {
  "kernelspec": {
   "display_name": "Python 3",
   "language": "python",
   "name": "python3"
  },
  "language_info": {
   "codemirror_mode": {
    "name": "ipython",
    "version": 3
   },
   "file_extension": ".py",
   "mimetype": "text/x-python",
   "name": "python",
   "nbconvert_exporter": "python",
   "pygments_lexer": "ipython3",
   "version": "3.11.1 (tags/v3.11.1:a7a450f, Dec  6 2022, 19:58:39) [MSC v.1934 64 bit (AMD64)]"
  },
  "orig_nbformat": 4,
  "vscode": {
   "interpreter": {
    "hash": "5238573367df39f7286bb46f9ff5f08f63a01a80960060ce41e3c79b190280fa"
   }
  }
 },
 "nbformat": 4,
 "nbformat_minor": 2
}
